{
 "cells": [
  {
   "cell_type": "code",
   "execution_count": null,
   "metadata": {
    "colab": {
     "base_uri": "https://localhost:8080/",
     "height": 315
    },
    "id": "bxh-YwORmNeP",
    "outputId": "d0fa68de-320f-46b1-8d5c-db462e9e640d"
   },
   "outputs": [],
   "source": [
    "#how to plot\n",
    "import numpy as np\n",
    "import matplotlib.pyplot as plt\n",
    "from sympy import symbols\n",
    "\n",
    "x = np.linspace(0, 2, 100)  # Sample data.\n",
    "plt.figure(figsize=(5, 2.7), layout='constrained')\n",
    "plt.plot(x, x, label='linear')  # Plot some data on the (implicit) Axes.\n",
    "plt.plot(x, x**2, label='quadratic')  # etc.\n",
    "plt.plot(x, x**3, label='cubic')\n",
    "plt.xlabel('x label')\n",
    "plt.ylabel('y label')\n",
    "plt.title(\"Simple Plot\")\n",
    "plt.legend()"
   ]
  },
  {
   "cell_type": "code",
   "execution_count": 2,
   "metadata": {
    "colab": {
     "base_uri": "https://localhost:8080/"
    },
    "id": "woJAeJEbR-lU",
    "outputId": "529a4cd9-ad27-4e49-a0d8-f3ad3b58b96f"
   },
   "outputs": [
    {
     "name": "stdout",
     "output_type": "stream",
     "text": [
      "Limit of sin(x)/x as x approaches 0: 1\n",
      "Solution of the differential equation: Eq(y(t), C2*exp(-t) + (C1 + t/2)*exp(t))\n"
     ]
    },
    {
     "data": {
      "text/latex": [
       "$\\displaystyle y{\\left(t \\right)} = C_{2} e^{- t} + \\left(C_{1} + \\frac{t}{2}\\right) e^{t}$"
      ],
      "text/plain": [
       "<IPython.core.display.Math object>"
      ]
     },
     "metadata": {},
     "output_type": "display_data"
    },
    {
     "name": "stdout",
     "output_type": "stream",
     "text": [
      "Eigenvalues of the matrix: {3/2 - sqrt(17)/2: 1, 3/2 + sqrt(17)/2: 1}\n"
     ]
    },
    {
     "data": {
      "text/latex": [
       "$\\displaystyle \\left\\{ \\frac{3}{2} - \\frac{\\sqrt{17}}{2} : 1, \\  \\frac{3}{2} + \\frac{\\sqrt{17}}{2} : 1\\right\\}$"
      ],
      "text/plain": [
       "<IPython.core.display.Math object>"
      ]
     },
     "metadata": {},
     "output_type": "display_data"
    },
    {
     "name": "stdout",
     "output_type": "stream",
     "text": [
      "Latex representation of the integral: \\int\\limits_{0}^{\\pi} \\cos^{2}{\\left(x \\right)}\\, dx\n"
     ]
    },
    {
     "data": {
      "text/latex": [
       "$\\displaystyle \\int\\limits_{0}^{\\pi} \\cos^{2}{\\left(x \\right)}\\, dx$"
      ],
      "text/plain": [
       "<IPython.core.display.Math object>"
      ]
     },
     "metadata": {},
     "output_type": "display_data"
    }
   ],
   "source": [
    "#how to show sympy symbols\n",
    "import numpy as np\n",
    "from sympy import symbols, diff, integrate, solve, sin, exp, cos, oo, Eq, Function, dsolve, Matrix, pi, Integral, latex, limit\n",
    "from IPython.display import display, Math\n",
    "\n",
    "# Defining symbols\n",
    "x, t, z, nu = symbols('x t z nu')\n",
    "x, y = symbols('x y')\n",
    "\n",
    "# Simple expression\n",
    "expr = x + 2*y\n",
    "\n",
    "\n",
    "# Differentiation using sympy's diff, not numpy's np.diff\n",
    "d1 = diff(sin(x)*exp(x), x)\n",
    "\n",
    "\n",
    "# Integration\n",
    "I1 = integrate(exp(x)*sin(x) + exp(x)*cos(x), x)\n",
    "\n",
    "# Definite integration\n",
    "I2 = integrate(sin(x**2), (x, -oo, oo))\n",
    "\n",
    "# Solving an equation\n",
    "x1 = solve(x**2 - 2, x)\n",
    "\n",
    "# Limit calculation\n",
    "A1 = limit(sin(x)/x, x, 0)\n",
    "print(\"Limit of sin(x)/x as x approaches 0:\", A1)\n",
    "\n",
    "# Differential equation solving\n",
    "y = Function('y')\n",
    "y1 = dsolve(Eq(y(t).diff(t, t) - y(t), exp(t)), y(t))\n",
    "print(\"Solution of the differential equation:\", y1)\n",
    "display(Math(latex(y1)))\n",
    "\n",
    "# Eigenvalues of a matrix\n",
    "egn1 = Matrix([[1, 2], [2, 2]]).eigenvals()\n",
    "print(\"Eigenvalues of the matrix:\", egn1)\n",
    "display(Math(latex(egn1)))\n",
    "\n",
    "# Latex representation of an integral\n",
    "o1 = latex(Integral(cos(x)**2, (x, 0, pi)))\n",
    "print(\"Latex representation of the integral:\", o1)\n",
    "display(Math(o1))"
   ]
  },
  {
   "cell_type": "code",
   "execution_count": 1,
   "metadata": {
    "colab": {
     "base_uri": "https://localhost:8080/"
    },
    "id": "4Ijc-UZMV6nL",
    "outputId": "a34de293-140b-4968-907f-63e06218bcfb"
   },
   "outputs": [
    {
     "name": "stdout",
     "output_type": "stream",
     "text": [
      "[[ 0  1  2  3  4]\n",
      " [ 5  6  7  8  9]\n",
      " [10 11 12 13 14]]\n",
      "(3, 5)\n",
      "2\n",
      "int64\n",
      "8\n",
      "15\n",
      "<class 'numpy.ndarray'>\n",
      "[[0. 0. 0. 0.]\n",
      " [0. 0. 0. 0.]\n",
      " [0. 0. 0. 0.]]\n",
      "[[5 4]\n",
      " [3 4]]\n",
      "[[[2]]\n",
      "\n",
      " [[3]]\n",
      "\n",
      " [[4]]\n",
      "\n",
      " [[5]]]\n",
      "[[0 2 4 6 8]\n",
      " [0 1 2 3 4]]\n"
     ]
    }
   ],
   "source": [
    "#array arranging\n",
    "import numpy as np\n",
    "\n",
    "a = np.arange(15).reshape(3, 5)\n",
    "print(a)\n",
    "print(a.shape)\n",
    "print(a.ndim)\n",
    "print(a.dtype.name)\n",
    "print(a.itemsize)\n",
    "print(a.size)\n",
    "print(type(a))\n",
    "b = np.array([6, 7, 8])\n",
    "type(b)\n",
    "print(np.zeros((3, 4)))\n",
    "A = np.array([[1, 1],\n",
    "              [0, 1]])\n",
    "B = np.array([[2, 0],\n",
    "              [3, 4]])\n",
    "print(A.dot(B))\n",
    "a = np.array([2, 3, 4, 5])\n",
    "b = np.array([8, 5, 4])\n",
    "c = np.array([5, 4, 6, 8, 3])\n",
    "ax, bx, cx = np.ix_(a, b, c)\n",
    "print(ax)\n",
    "x = np.arange(0, 10, 2)\n",
    "y = np.arange(5)\n",
    "m = np.vstack([x, y])\n",
    "print(m)"
   ]
  },
  {
   "cell_type": "code",
   "execution_count": null,
   "metadata": {
    "colab": {
     "base_uri": "https://localhost:8080/",
     "height": 447
    },
    "id": "MZJplAyNZUIo",
    "outputId": "da7dd90d-9dba-4b5c-ee2a-94669ed89a72"
   },
   "outputs": [],
   "source": [
    "#plot histogram\n",
    "import numpy as np\n",
    "import matplotlib.pyplot as plt\n",
    "\n",
    "rg = np.random.default_rng(1)\n",
    "\n",
    "# Build a vector of 10000 normal deviates with variance 0.5^2 and mean 2\n",
    "mu, sigma = 2, 0.5\n",
    "v = rg.normal(mu, sigma, 10000)\n",
    "\n",
    "# Plot a normalized histogram with 50 bins\n",
    "plt.hist(v, bins=50, density=True)       \n",
    "#matplotlib version (plot)\n",
    "\n",
    "# Compute the histogram with numpy and then plot it\n",
    "(n, bins) = np.histogram(v, bins=50, density=True)  \n",
    "# NumPy version (no plot)\n",
    "plt.plot(.5 * (bins[1:] + bins[:-1]), n)"
   ]
  },
  {
   "cell_type": "code",
   "execution_count": null,
   "metadata": {
    "colab": {
     "base_uri": "https://localhost:8080/"
    },
    "id": "R_JdvmCBcoFX",
    "outputId": "a61799c4-d175-48d6-f35a-64cef8d62ed3"
   },
   "outputs": [],
   "source": [
    "#gaussian quadrature\n",
    "from scipy.integrate import quad\n",
    "\n",
    "def integrand(x, a, b):\n",
    "    return a*x**2 + b\n",
    "\n",
    "a = 2\n",
    "b = 1\n",
    "I = quad(integrand, 0, 1, args=(a,b))\n",
    "print(I)"
   ]
  },
  {
   "cell_type": "code",
   "execution_count": 3,
   "metadata": {},
   "outputs": [
    {
     "name": "stdout",
     "output_type": "stream",
     "text": [
      "Vector Norms (2-norm, 1-norm, Infinity norm): (8.0, 16.0, 4.0)\n",
      "Matrix Norms (2-norm, 1-norm, Infinity norm): (1.5809062632720225, 2.283333333333333, 2.283333333333333)\n",
      "Inverse of matrix A:\n",
      " [[ 2.500e+01 -3.000e+02  1.050e+03 -1.400e+03  6.300e+02]\n",
      " [-3.000e+02  4.800e+03 -1.890e+04  2.688e+04 -1.260e+04]\n",
      " [ 1.050e+03 -1.890e+04  7.938e+04 -1.176e+05  5.670e+04]\n",
      " [-1.400e+03  2.688e+04 -1.176e+05  1.792e+05 -8.820e+04]\n",
      " [ 6.300e+02 -1.260e+04  5.670e+04 -8.820e+04  4.410e+04]]\n",
      "Condition number of matrix A: 480849.1169945075\n",
      "Determinant of matrix A: 3.749295132516573e-12\n"
     ]
    }
   ],
   "source": [
    "import numpy as np\n",
    "from numpy import linalg as LA\n",
    "from numpy.linalg import inv\n",
    "\n",
    "def compute_vector_norms(a):\n",
    "    \"\"\"\n",
    "    Computes the norms of a vector.\n",
    "    \n",
    "    Parameters:\n",
    "    a (numpy.ndarray): The input vector.\n",
    "    \n",
    "    Returns:\n",
    "    tuple: 2-norm, 1-norm, and infinity norm of the vector.\n",
    "    \"\"\"\n",
    "    anm2 = LA.norm(a)          # 2-norm (Euclidean norm)\n",
    "    anm1 = LA.norm(a, 1)       # 1-norm (sum of absolute values)\n",
    "    anminf = LA.norm(a, np.inf) # Infinity norm (maximum absolute value)\n",
    "    \n",
    "    return anm2, anm1, anminf\n",
    "\n",
    "def compute_matrix_norms(A):\n",
    "    \"\"\"\n",
    "    Computes the norms of a matrix.\n",
    "    \n",
    "    Parameters:\n",
    "    A (numpy.ndarray): The input matrix.\n",
    "    \n",
    "    Returns:\n",
    "    tuple: 2-norm, 1-norm, and infinity norm of the matrix.\n",
    "    \"\"\"\n",
    "    Anm2 = LA.norm(A)          # 2-norm of the matrix\n",
    "    Anm1 = LA.norm(A, 1)       # 1-norm of the matrix\n",
    "    Anminf = LA.norm(A, np.inf) # Infinity norm of the matrix\n",
    "    \n",
    "    return Anm2, Anm1, Anminf\n",
    "\n",
    "def compute_matrix_inverse(A):\n",
    "    \"\"\"\n",
    "    Computes the inverse of a matrix.\n",
    "    \n",
    "    Parameters:\n",
    "    A (numpy.ndarray): The input matrix.\n",
    "    \n",
    "    Returns:\n",
    "    numpy.ndarray: The inverse of the matrix.\n",
    "    \"\"\"\n",
    "    Ainv = inv(A)\n",
    "    return Ainv\n",
    "\n",
    "def compute_condition_number(A):\n",
    "    \"\"\"\n",
    "    Computes the condition number of a matrix using the 2-norm.\n",
    "    \n",
    "    Parameters:\n",
    "    A (numpy.ndarray): The input matrix.\n",
    "    \n",
    "    Returns:\n",
    "    float: The condition number of the matrix.\n",
    "    \"\"\"\n",
    "    Anm2 = LA.norm(A)           # 2-norm of the matrix\n",
    "    Ainv = inv(A)               # Inverse of the matrix\n",
    "    Ainvnm2 = LA.norm(Ainv)     # 2-norm of the inverse\n",
    "    \n",
    "    condA = Anm2 * Ainvnm2      # Condition number\n",
    "    return condA\n",
    "\n",
    "def compute_determinant(A):\n",
    "    \"\"\"\n",
    "    Computes the determinant of a matrix.\n",
    "    \n",
    "    Parameters:\n",
    "    A (numpy.ndarray): The input matrix.\n",
    "    \n",
    "    Returns:\n",
    "    float: The determinant of the matrix.\n",
    "    \"\"\"\n",
    "    dA = np.linalg.det(A)\n",
    "    return dA\n",
    "\n",
    "# Example usage:\n",
    "# Define a vector and a matrix\n",
    "a = np.array([4, 4, -4, 4])\n",
    "A = np.array([[1.0, 1.0/2.0, 1.0/3.0, 1.0/4.0, 1.0/5.0],\n",
    "              [1.0/2.0, 1.0/3.0, 1.0/4.0, 1.0/5.0, 1.0/6.0],\n",
    "              [1.0/3.0, 1.0/4.0, 1.0/5.0, 1.0/6.0, 1.0/7.0],\n",
    "              [1.0/4.0, 1.0/5.0, 1.0/6.0, 1.0/7.0, 1.0/8.0],\n",
    "              [1.0/5.0, 1.0/6.0, 1.0/7.0, 1.0/8.0, 1.0/9.0]])\n",
    "\n",
    "# Compute and print vector norms\n",
    "vector_norms = compute_vector_norms(a)\n",
    "print(\"Vector Norms (2-norm, 1-norm, Infinity norm):\", vector_norms)\n",
    "\n",
    "# Compute and print matrix norms\n",
    "matrix_norms = compute_matrix_norms(A)\n",
    "print(\"Matrix Norms (2-norm, 1-norm, Infinity norm):\", matrix_norms)\n",
    "\n",
    "# Compute and print the inverse of the matrix\n",
    "A_inv = compute_matrix_inverse(A)\n",
    "print(\"Inverse of matrix A:\\n\", A_inv)\n",
    "\n",
    "# Compute and print the condition number of the matrix\n",
    "condition_number = compute_condition_number(A)\n",
    "print(\"Condition number of matrix A:\", condition_number)\n",
    "\n",
    "# Compute and print the determinant of the matrix\n",
    "determinant = compute_determinant(A)\n",
    "print(\"Determinant of matrix A:\", determinant)"
   ]
  },
  {
   "cell_type": "code",
   "execution_count": 1,
   "metadata": {},
   "outputs": [
    {
     "name": "stdout",
     "output_type": "stream",
     "text": [
      "Block Matrix X:\n",
      " Matrix([\n",
      "[A, B],\n",
      "[C, D]])\n",
      "Schur Decomposition of Block Matrix X:\n",
      " -C*A**(-1)*B + D\n",
      "Lower Triangular Matrix L:\n",
      " Matrix([\n",
      "[        I, 0],\n",
      "[C*A**(-1), I]])\n",
      "Diagonal Matrix D:\n",
      " Matrix([\n",
      "[A,                0],\n",
      "[0, -C*A**(-1)*B + D]])\n",
      "Upper Triangular Matrix U:\n",
      " Matrix([\n",
      "[I, A**(-1)*B],\n",
      "[0,         I]])\n"
     ]
    },
    {
     "ename": "TypeError",
     "evalue": "'Add' object cannot be interpreted as an integer",
     "output_type": "error",
     "traceback": [
      "\u001b[0;31m---------------------------------------------------------------------------\u001b[0m",
      "\u001b[0;31mTypeError\u001b[0m                                 Traceback (most recent call last)",
      "Cell \u001b[0;32mIn[1], line 81\u001b[0m\n\u001b[1;32m     77\u001b[0m     \u001b[38;5;28;01mreturn\u001b[39;00m full_matrix\n\u001b[1;32m     80\u001b[0m \u001b[38;5;66;03m# Convert L, D, U to full matrices\u001b[39;00m\n\u001b[0;32m---> 81\u001b[0m full_L \u001b[38;5;241m=\u001b[39m convert_to_full_matrix(L1)\n\u001b[1;32m     82\u001b[0m full_D \u001b[38;5;241m=\u001b[39m convert_to_full_matrix(D1)\n\u001b[1;32m     83\u001b[0m full_U \u001b[38;5;241m=\u001b[39m convert_to_full_matrix(U1)\n",
      "Cell \u001b[0;32mIn[1], line 74\u001b[0m, in \u001b[0;36mconvert_to_full_matrix\u001b[0;34m(block_matrix)\u001b[0m\n\u001b[1;32m     73\u001b[0m \u001b[38;5;28;01mdef\u001b[39;00m \u001b[38;5;21mconvert_to_full_matrix\u001b[39m(block_matrix):\n\u001b[0;32m---> 74\u001b[0m     FM\u001b[38;5;241m=\u001b[39mblock_diag(block_matrix)\n\u001b[1;32m     75\u001b[0m     matrixFM\u001b[38;5;241m=\u001b[39mnp\u001b[38;5;241m.\u001b[39mmatrix(FM\u001b[38;5;241m.\u001b[39mreshape(\u001b[38;5;241m4\u001b[39m,\u001b[38;5;241m4\u001b[39m))\n\u001b[1;32m     76\u001b[0m     full_matrix\u001b[38;5;241m=\u001b[39mnp\u001b[38;5;241m.\u001b[39marray(matrixFM)\u001b[38;5;241m.\u001b[39mastype(np\u001b[38;5;241m.\u001b[39mfloat64)\n",
      "File \u001b[0;32m~/anaconda3/lib/python3.11/site-packages/scipy/linalg/_special_matrices.py:534\u001b[0m, in \u001b[0;36mblock_diag\u001b[0;34m(*arrs)\u001b[0m\n\u001b[1;32m    532\u001b[0m \u001b[38;5;28;01mif\u001b[39;00m arrs \u001b[38;5;241m==\u001b[39m ():\n\u001b[1;32m    533\u001b[0m     arrs \u001b[38;5;241m=\u001b[39m ([],)\n\u001b[0;32m--> 534\u001b[0m arrs \u001b[38;5;241m=\u001b[39m [np\u001b[38;5;241m.\u001b[39matleast_2d(a) \u001b[38;5;28;01mfor\u001b[39;00m a \u001b[38;5;129;01min\u001b[39;00m arrs]\n\u001b[1;32m    536\u001b[0m bad_args \u001b[38;5;241m=\u001b[39m [k \u001b[38;5;28;01mfor\u001b[39;00m k \u001b[38;5;129;01min\u001b[39;00m \u001b[38;5;28mrange\u001b[39m(\u001b[38;5;28mlen\u001b[39m(arrs)) \u001b[38;5;28;01mif\u001b[39;00m arrs[k]\u001b[38;5;241m.\u001b[39mndim \u001b[38;5;241m>\u001b[39m \u001b[38;5;241m2\u001b[39m]\n\u001b[1;32m    537\u001b[0m \u001b[38;5;28;01mif\u001b[39;00m bad_args:\n",
      "File \u001b[0;32m~/anaconda3/lib/python3.11/site-packages/scipy/linalg/_special_matrices.py:534\u001b[0m, in \u001b[0;36m<listcomp>\u001b[0;34m(.0)\u001b[0m\n\u001b[1;32m    532\u001b[0m \u001b[38;5;28;01mif\u001b[39;00m arrs \u001b[38;5;241m==\u001b[39m ():\n\u001b[1;32m    533\u001b[0m     arrs \u001b[38;5;241m=\u001b[39m ([],)\n\u001b[0;32m--> 534\u001b[0m arrs \u001b[38;5;241m=\u001b[39m [np\u001b[38;5;241m.\u001b[39matleast_2d(a) \u001b[38;5;28;01mfor\u001b[39;00m a \u001b[38;5;129;01min\u001b[39;00m arrs]\n\u001b[1;32m    536\u001b[0m bad_args \u001b[38;5;241m=\u001b[39m [k \u001b[38;5;28;01mfor\u001b[39;00m k \u001b[38;5;129;01min\u001b[39;00m \u001b[38;5;28mrange\u001b[39m(\u001b[38;5;28mlen\u001b[39m(arrs)) \u001b[38;5;28;01mif\u001b[39;00m arrs[k]\u001b[38;5;241m.\u001b[39mndim \u001b[38;5;241m>\u001b[39m \u001b[38;5;241m2\u001b[39m]\n\u001b[1;32m    537\u001b[0m \u001b[38;5;28;01mif\u001b[39;00m bad_args:\n",
      "File \u001b[0;32m<__array_function__ internals>:200\u001b[0m, in \u001b[0;36matleast_2d\u001b[0;34m(*args, **kwargs)\u001b[0m\n",
      "File \u001b[0;32m~/anaconda3/lib/python3.11/site-packages/numpy/core/shape_base.py:121\u001b[0m, in \u001b[0;36matleast_2d\u001b[0;34m(*arys)\u001b[0m\n\u001b[1;32m    119\u001b[0m res \u001b[38;5;241m=\u001b[39m []\n\u001b[1;32m    120\u001b[0m \u001b[38;5;28;01mfor\u001b[39;00m ary \u001b[38;5;129;01min\u001b[39;00m arys:\n\u001b[0;32m--> 121\u001b[0m     ary \u001b[38;5;241m=\u001b[39m asanyarray(ary)\n\u001b[1;32m    122\u001b[0m     \u001b[38;5;28;01mif\u001b[39;00m ary\u001b[38;5;241m.\u001b[39mndim \u001b[38;5;241m==\u001b[39m \u001b[38;5;241m0\u001b[39m:\n\u001b[1;32m    123\u001b[0m         result \u001b[38;5;241m=\u001b[39m ary\u001b[38;5;241m.\u001b[39mreshape(\u001b[38;5;241m1\u001b[39m, \u001b[38;5;241m1\u001b[39m)\n",
      "File \u001b[0;32m~/anaconda3/lib/python3.11/site-packages/sympy/matrices/expressions/matexpr.py:383\u001b[0m, in \u001b[0;36mMatrixExpr.__array__\u001b[0;34m(self)\u001b[0m\n\u001b[1;32m    381\u001b[0m \u001b[38;5;28;01mdef\u001b[39;00m \u001b[38;5;21m__array__\u001b[39m(\u001b[38;5;28mself\u001b[39m):\n\u001b[1;32m    382\u001b[0m     \u001b[38;5;28;01mfrom\u001b[39;00m \u001b[38;5;21;01mnumpy\u001b[39;00m \u001b[38;5;28;01mimport\u001b[39;00m empty\n\u001b[0;32m--> 383\u001b[0m     a \u001b[38;5;241m=\u001b[39m empty(\u001b[38;5;28mself\u001b[39m\u001b[38;5;241m.\u001b[39mshape, dtype\u001b[38;5;241m=\u001b[39m\u001b[38;5;28mobject\u001b[39m)\n\u001b[1;32m    384\u001b[0m     \u001b[38;5;28;01mfor\u001b[39;00m i \u001b[38;5;129;01min\u001b[39;00m \u001b[38;5;28mrange\u001b[39m(\u001b[38;5;28mself\u001b[39m\u001b[38;5;241m.\u001b[39mrows):\n\u001b[1;32m    385\u001b[0m         \u001b[38;5;28;01mfor\u001b[39;00m j \u001b[38;5;129;01min\u001b[39;00m \u001b[38;5;28mrange\u001b[39m(\u001b[38;5;28mself\u001b[39m\u001b[38;5;241m.\u001b[39mcols):\n",
      "\u001b[0;31mTypeError\u001b[0m: 'Add' object cannot be interpreted as an integer"
     ]
    }
   ],
   "source": [
    "from sympy.matrices import Matrix, MatrixSymbol, BlockMatrix\n",
    "from scipy.linalg import block_diag\n",
    "import numpy as np\n",
    "from numpy.linalg import inv\n",
    "from sympy import symbols\n",
    "\n",
    "# Define symbolic variables\n",
    "m, n = symbols('m n')\n",
    "\n",
    "# Define symbolic matrices\n",
    "A = MatrixSymbol('A', n, n)  # Square matrix A\n",
    "B = MatrixSymbol('B', n, m)  # Matrix B\n",
    "C = MatrixSymbol('C', m, n)  # Matrix C\n",
    "D = MatrixSymbol('D', m, m)  # Square matrix D\n",
    "\n",
    "def create_block_matrix(A, B, C, D):\n",
    "    \"\"\"\n",
    "    Create a block matrix from four matrices.\n",
    "    \n",
    "    Parameters:\n",
    "    A (MatrixSymbol): Top-left matrix.\n",
    "    B (MatrixSymbol): Top-right matrix.\n",
    "    C (MatrixSymbol): Bottom-left matrix.\n",
    "    D (MatrixSymbol): Bottom-right matrix.\n",
    "    \n",
    "    Returns:\n",
    "    BlockMatrix: The resulting block matrix.\n",
    "    \"\"\"\n",
    "    X = BlockMatrix([[A, B], [C, D]])\n",
    "    return X\n",
    "\n",
    "# Create the block matrix X\n",
    "X = create_block_matrix(A, B, C, D)\n",
    "print(\"Block Matrix X:\\n\", X)\n",
    "\n",
    "def schur_decomposition(X, matrix_name='A'):\n",
    "    \"\"\"\n",
    "    Perform Schur decomposition of a block matrix.\n",
    "    \n",
    "    Parameters:\n",
    "    X (BlockMatrix): The block matrix to decompose.\n",
    "    matrix_name (str): The name of the matrix to keep invertible.\n",
    "    \n",
    "    Returns:\n",
    "    BlockMatrix: The Schur decomposition of the block matrix.\n",
    "    \"\"\"\n",
    "    X_schur = X.schur(matrix_name)\n",
    "    return X_schur\n",
    "\n",
    "# Perform Schur decomposition, keeping matrix A invertible\n",
    "X1 = schur_decomposition(X, 'A')\n",
    "print(\"Schur Decomposition of Block Matrix X:\\n\", X1)\n",
    "\n",
    "def lu_decomposition(X):\n",
    "    \"\"\"\n",
    "    Perform LDU decomposition of a block matrix.\n",
    "    \n",
    "    Parameters:\n",
    "    X (BlockMatrix): The block matrix to decompose.\n",
    "    \n",
    "    Returns:\n",
    "    tuple: Lower triangular matrix L, diagonal matrix D, and upper triangular matrix U.\n",
    "    \"\"\"\n",
    "    L, D, U = X.LDUdecomposition()\n",
    "    return L, D, U\n",
    "\n",
    "# Perform LDU decomposition of the block matrix\n",
    "L1, D1, U1 = lu_decomposition(X)\n",
    "print(\"Lower Triangular Matrix L:\\n\", L1)\n",
    "print(\"Diagonal Matrix D:\\n\", D1)\n",
    "print(\"Upper Triangular Matrix U:\\n\", U1)\n",
    "\n",
    "def convert_to_full_matrix(block_matrix):\n",
    "    FM=block_diag(block_matrix)\n",
    "    matrixFM=np.matrix(FM.reshape(4,4))\n",
    "    full_matrix=np.array(matrixFM).astype(np.float64)\n",
    "    return full_matrix\n",
    "\n",
    "\n",
    "# Convert L, D, U to full matrices\n",
    "full_L = convert_to_full_matrix(L1)\n",
    "full_D = convert_to_full_matrix(D1)\n",
    "full_U = convert_to_full_matrix(U1)\n",
    "\n",
    "print(\"Full Matrix L:\\n\", full_L)\n",
    "print(\"Full Matrix D:\\n\", full_D)\n",
    "print(\"Full Matrix U:\\n\", full_U)\n",
    "\n",
    "def matrix_inverses(L, D, U):\n",
    "    \"\"\"\n",
    "    Compute the inverses of matrices L, D, and U.\n",
    "    \n",
    "    Parameters:\n",
    "    L (np.ndarray): Lower triangular matrix.\n",
    "    D (np.ndarray): Diagonal matrix.\n",
    "    U (np.ndarray): Upper triangular matrix.\n",
    "    \n",
    "    Returns:\n",
    "    tuple: Inverses of L, D, and U.\n",
    "    \"\"\"\n",
    "    L_inv = inv(L)\n",
    "    D_inv = inv(D)\n",
    "    U_inv = inv(U)\n",
    "    return L_inv, D_inv, U_inv\n",
    "\n",
    "# Compute inverses of L, D, U\n",
    "L_inv, D_inv, U_inv = matrix_inverses(full_L, full_D, full_U)\n",
    "print(\"Inverse of Lower Triangular Matrix L:\\n\", L_inv)\n",
    "print(\"Inverse of Diagonal Matrix D:\\n\", D_inv)\n",
    "print(\"Inverse of Upper Triangular Matrix U:\\n\", U_inv)\n",
    "\n",
    "def reconstruct_matrix(U_inv, D_inv, L_inv):\n",
    "    \"\"\"\n",
    "    Reconstruct the original matrix using the inverses of L, D, and U.\n",
    "    \n",
    "    Parameters:\n",
    "    U_inv (np.ndarray): Inverse of the upper triangular matrix.\n",
    "    D_inv (np.ndarray): Inverse of the diagonal matrix.\n",
    "    L_inv (np.ndarray): Inverse of the lower triangular matrix.\n",
    "    \n",
    "    Returns:\n",
    "    np.ndarray: Reconstructed matrix.\n",
    "    \"\"\"\n",
    "    mmDinvLinv = np.dot(D_inv, L_inv)\n",
    "    reconstructed_matrix = np.dot(U_inv, mmDinvLinv)\n",
    "    return reconstructed_matrix\n",
    "\n",
    "# Reconstruct the original matrix\n",
    "reconstructed = reconstruct_matrix(U_inv, D_inv, L_inv)\n",
    "print(\"Reconstructed Matrix:\\n\", reconstructed)"
   ]
  },
  {
   "cell_type": "code",
   "execution_count": null,
   "metadata": {},
   "outputs": [],
   "source": []
  }
 ],
 "metadata": {
  "colab": {
   "provenance": []
  },
  "kernelspec": {
   "display_name": "Python 3 (ipykernel)",
   "language": "python",
   "name": "python3"
  },
  "language_info": {
   "codemirror_mode": {
    "name": "ipython",
    "version": 3
   },
   "file_extension": ".py",
   "mimetype": "text/x-python",
   "name": "python",
   "nbconvert_exporter": "python",
   "pygments_lexer": "ipython3",
   "version": "3.11.3"
  }
 },
 "nbformat": 4,
 "nbformat_minor": 1
}
