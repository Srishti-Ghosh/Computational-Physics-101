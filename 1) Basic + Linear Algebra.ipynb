{
 "cells": [
  {
   "cell_type": "code",
   "execution_count": 1,
   "metadata": {
    "colab": {
     "base_uri": "https://localhost:8080/",
     "height": 315
    },
    "id": "bxh-YwORmNeP",
    "outputId": "d0fa68de-320f-46b1-8d5c-db462e9e640d"
   },
   "outputs": [
    {
     "data": {
      "text/plain": [
       "<matplotlib.legend.Legend at 0x130f0fc50>"
      ]
     },
     "execution_count": 1,
     "metadata": {},
     "output_type": "execute_result"
    },
    {
     "data": {
      "image/png": "[encoded data removed]",
      "text/plain": [
       "<Figure size 500x270 with 1 Axes>"
      ]
     },
     "metadata": {},
     "output_type": "display_data"
    }
   ],
   "source": [
    "#how to plot\n",
    "import numpy as np\n",
    "import matplotlib.pyplot as plt\n",
    "from sympy import symbols\n",
    "\n",
    "x = np.linspace(0, 2, 100)  # Sample data.\n",
    "plt.figure(figsize=(5, 2.7), layout='constrained')\n",
    "plt.plot(x, x, label='linear')  # Plot some data on the (implicit) Axes.\n",
    "plt.plot(x, x**2, label='quadratic')  # etc.\n",
    "plt.plot(x, x**3, label='cubic')\n",
    "plt.xlabel('x label')\n",
    "plt.ylabel('y label')\n",
    "plt.title(\"Simple Plot\")\n",
    "plt.legend()"
   ]
  },
  {
   "cell_type": "code",
   "execution_count": 2,
   "metadata": {
    "colab": {
     "base_uri": "https://localhost:8080/"
    },
    "id": "woJAeJEbR-lU",
    "outputId": "529a4cd9-ad27-4e49-a0d8-f3ad3b58b96f"
   },
   "outputs": [
    {
     "name": "stdout",
     "output_type": "stream",
     "text": [
      "Limit of sin(x)/x as x approaches 0: 1\n",
      "Solution of the differential equation: Eq(y(t), C2*exp(-t) + (C1 + t/2)*exp(t))\n"
     ]
    },
    {
     "data": {
      "text/latex": [
       "$\\displaystyle y{\\left(t \\right)} = C_{2} e^{- t} + \\left(C_{1} + \\frac{t}{2}\\right) e^{t}$"
      ],
      "text/plain": [
       "<IPython.core.display.Math object>"
      ]
     },
     "metadata": {},
     "output_type": "display_data"
    },
    {
     "name": "stdout",
     "output_type": "stream",
     "text": [
      "Eigenvalues of the matrix: {3/2 - sqrt(17)/2: 1, 3/2 + sqrt(17)/2: 1}\n"
     ]
    },
    {
     "data": {
      "text/latex": [
       "$\\displaystyle \\left\\{ \\frac{3}{2} - \\frac{\\sqrt{17}}{2} : 1, \\  \\frac{3}{2} + \\frac{\\sqrt{17}}{2} : 1\\right\\}$"
      ],
      "text/plain": [
       "<IPython.core.display.Math object>"
      ]
     },
     "metadata": {},
     "output_type": "display_data"
    },
    {
     "name": "stdout",
     "output_type": "stream",
     "text": [
      "Latex representation of the integral: \\int\\limits_{0}^{\\pi} \\cos^{2}{\\left(x \\right)}\\, dx\n"
     ]
    },
    {
     "data": {
      "text/latex": [
       "$\\displaystyle \\int\\limits_{0}^{\\pi} \\cos^{2}{\\left(x \\right)}\\, dx$"
      ],
      "text/plain": [
       "<IPython.core.display.Math object>"
      ]
     },
     "metadata": {},
     "output_type": "display_data"
    }
   ],
   "source": [
    "#how to show sympy symbols\n",
    "import numpy as np\n",
    "from sympy import symbols, diff, integrate, solve, sin, exp, cos, oo, Eq, Function, dsolve, Matrix, pi, Integral, latex, limit\n",
    "from IPython.display import display, Math\n",
    "\n",
    "# Defining symbols\n",
    "x, t, z, nu = symbols('x t z nu')\n",
    "x, y = symbols('x y')\n",
    "\n",
    "# Simple expression\n",
    "expr = x + 2*y\n",
    "\n",
    "\n",
    "# Differentiation using sympy's diff, not numpy's np.diff\n",
    "d1 = diff(sin(x)*exp(x), x)\n",
    "\n",
    "\n",
    "# Integration\n",
    "I1 = integrate(exp(x)*sin(x) + exp(x)*cos(x), x)\n",
    "\n",
    "# Definite integration\n",
    "I2 = integrate(sin(x**2), (x, -oo, oo))\n",
    "\n",
    "# Solving an equation\n",
    "x1 = solve(x**2 - 2, x)\n",
    "\n",
    "# Limit calculation\n",
    "A1 = limit(sin(x)/x, x, 0)\n",
    "print(\"Limit of sin(x)/x as x approaches 0:\", A1)\n",
    "\n",
    "# Differential equation solving\n",
    "y = Function('y')\n",
    "y1 = dsolve(Eq(y(t).diff(t, t) - y(t), exp(t)), y(t))\n",
    "print(\"Solution of the differential equation:\", y1)\n",
    "display(Math(latex(y1)))\n",
    "\n",
    "# Eigenvalues of a matrix\n",
    "egn1 = Matrix([[1, 2], [2, 2]]).eigenvals()\n",
    "print(\"Eigenvalues of the matrix:\", egn1)\n",
    "display(Math(latex(egn1)))\n",
    "\n",
    "# Latex representation of an integral\n",
    "o1 = latex(Integral(cos(x)**2, (x, 0, pi)))\n",
    "print(\"Latex representation of the integral:\", o1)\n",
    "display(Math(o1))"
   ]
  },
  {
   "cell_type": "code",
   "execution_count": 1,
   "metadata": {
    "colab": {
     "base_uri": "https://localhost:8080/"
    },
    "id": "4Ijc-UZMV6nL",
    "outputId": "a34de293-140b-4968-907f-63e06218bcfb"
   },
   "outputs": [
    {
     "name": "stdout",
     "output_type": "stream",
     "text": [
      "[[ 0  1  2  3  4]\n",
      " [ 5  6  7  8  9]\n",
      " [10 11 12 13 14]]\n",
      "(3, 5)\n",
      "2\n",
      "int64\n",
      "8\n",
      "15\n",
      "<class 'numpy.ndarray'>\n",
      "[[0. 0. 0. 0.]\n",
      " [0. 0. 0. 0.]\n",
      " [0. 0. 0. 0.]]\n",
      "[[5 4]\n",
      " [3 4]]\n",
      "[[[2]]\n",
      "\n",
      " [[3]]\n",
      "\n",
      " [[4]]\n",
      "\n",
      " [[5]]]\n",
      "[[0 2 4 6 8]\n",
      " [0 1 2 3 4]]\n"
     ]
    }
   ],
   "source": [
    "#array arranging\n",
    "import numpy as np\n",
    "\n",
    "a = np.arange(15).reshape(3, 5)\n",
    "print(a)\n",
    "print(a.shape)\n",
    "print(a.ndim)\n",
    "print(a.dtype.name)\n",
    "print(a.itemsize)\n",
    "print(a.size)\n",
    "print(type(a))\n",
    "b = np.array([6, 7, 8])\n",
    "type(b)\n",
    "print(np.zeros((3, 4)))\n",
    "A = np.array([[1, 1],\n",
    "              [0, 1]])\n",
    "B = np.array([[2, 0],\n",
    "              [3, 4]])\n",
    "print(A.dot(B))\n",
    "a = np.array([2, 3, 4, 5])\n",
    "b = np.array([8, 5, 4])\n",
    "c = np.array([5, 4, 6, 8, 3])\n",
    "ax, bx, cx = np.ix_(a, b, c)\n",
    "print(ax)\n",
    "x = np.arange(0, 10, 2)\n",
    "y = np.arange(5)\n",
    "m = np.vstack([x, y])\n",
    "print(m)"
   ]
  },
  {
   "cell_type": "code",
   "execution_count": 3,
   "metadata": {
    "colab": {
     "base_uri": "https://localhost:8080/",
     "height": 447
    },
    "id": "MZJplAyNZUIo",
    "outputId": "da7dd90d-9dba-4b5c-ee2a-94669ed89a72"
   },
   "outputs": [
    {
     "data": {
      "text/plain": [
       "[<matplotlib.lines.Line2D at 0x131dc3910>]"
      ]
     },
     "execution_count": 3,
     "metadata": {},
     "output_type": "execute_result"
    },
    {
     "data": {
      "image/png": "[encoded data removed]",
      "text/plain": [
       "<Figure size 640x480 with 1 Axes>"
      ]
     },
     "metadata": {},
     "output_type": "display_data"
    }
   ],
   "source": [
    "#plot histogram\n",
    "import numpy as np\n",
    "import matplotlib.pyplot as plt\n",
    "\n",
    "rg = np.random.default_rng(1)\n",
    "\n",
    "# Build a vector of 10000 normal deviates with variance 0.5^2 and mean 2\n",
    "mu, sigma = 2, 0.5\n",
    "v = rg.normal(mu, sigma, 10000)\n",
    "\n",
    "# Plot a normalized histogram with 50 bins\n",
    "plt.hist(v, bins=50, density=True)       \n",
    "#matplotlib version (plot)\n",
    "\n",
    "# Compute the histogram with numpy and then plot it\n",
    "(n, bins) = np.histogram(v, bins=50, density=True)  \n",
    "# NumPy version (no plot)\n",
    "plt.plot(.5 * (bins[1:] + bins[:-1]), n)"
   ]
  },
  {
   "cell_type": "code",
   "execution_count": 4,
   "metadata": {
    "colab": {
     "base_uri": "https://localhost:8080/"
    },
    "id": "R_JdvmCBcoFX",
    "outputId": "a61799c4-d175-48d6-f35a-64cef8d62ed3"
   },
   "outputs": [
    {
     "name": "stdout",
     "output_type": "stream",
     "text": [
      "(1.6666666666666667, 1.8503717077085944e-14)\n"
     ]
    }
   ],
   "source": [
    "#gaussian quadrature\n",
    "from scipy.integrate import quad\n",
    "\n",
    "def integrand(x, a, b):\n",
    "    return a*x**2 + b\n",
    "\n",
    "a = 2\n",
    "b = 1\n",
    "I = quad(integrand, 0, 1, args=(a,b))\n",
    "print(I)"
   ]
  },
  {
   "cell_type": "code",
   "execution_count": 7,
   "metadata": {},
   "outputs": [
    {
     "name": "stdout",
     "output_type": "stream",
     "text": [
      "Vector Norms (2-norm, 1-norm, Infinity norm): (8.0, 16.0, 4.0)\n",
      "Matrix Norms (2-norm, 1-norm, Infinity norm): (1.5809062632720225, 2.283333333333333, 2.283333333333333)\n",
      "Inverse of matrix A:\n",
      " [[ 2.500e+01 -3.000e+02  1.050e+03 -1.400e+03  6.300e+02]\n",
      " [-3.000e+02  4.800e+03 -1.890e+04  2.688e+04 -1.260e+04]\n",
      " [ 1.050e+03 -1.890e+04  7.938e+04 -1.176e+05  5.670e+04]\n",
      " [-1.400e+03  2.688e+04 -1.176e+05  1.792e+05 -8.820e+04]\n",
      " [ 6.300e+02 -1.260e+04  5.670e+04 -8.820e+04  4.410e+04]]\n",
      "Condition number of matrix A: 480849.1169945075\n",
      "Determinant of matrix A: 3.749295132516573e-12\n"
     ]
    }
   ],
   "source": [
    "import numpy as np\n",
    "from numpy import linalg as LA\n",
    "from numpy.linalg import inv\n",
    "\n",
    "def compute_vector_norms(a):\n",
    "    anm2 = LA.norm(a)          # 2-norm (Euclidean norm)\n",
    "    anm1 = LA.norm(a, 1)       # 1-norm (sum of absolute values)\n",
    "    anminf = LA.norm(a, np.inf) # Infinity norm (maximum absolute value)\n",
    "    \n",
    "    return anm2, anm1, anminf\n",
    "\n",
    "def compute_matrix_norms(A):\n",
    "    Anm2 = LA.norm(A)          # 2-norm of the matrix\n",
    "    Anm1 = LA.norm(A, 1)       # 1-norm of the matrix\n",
    "    Anminf = LA.norm(A, np.inf) # Infinity norm of the matrix\n",
    "    \n",
    "    return Anm2, Anm1, Anminf\n",
    "\n",
    "def compute_matrix_inverse(A):\n",
    "    Ainv = inv(A)\n",
    "    return Ainv\n",
    "\n",
    "def compute_condition_number(A):\n",
    "    Anm2 = LA.norm(A)           # 2-norm of the matrix\n",
    "    Ainv = inv(A)               # Inverse of the matrix\n",
    "    Ainvnm2 = LA.norm(Ainv)     # 2-norm of the inverse\n",
    "    \n",
    "    condA = Anm2 * Ainvnm2      # Condition number\n",
    "    return condA\n",
    "\n",
    "def compute_determinant(A):\n",
    "    dA = np.linalg.det(A)\n",
    "    return dA\n",
    "\n",
    "# Example usage:\n",
    "# Define a vector and a matrix\n",
    "a = np.array([4, 4, -4, 4])\n",
    "A = np.array([[1.0, 1.0/2.0, 1.0/3.0, 1.0/4.0, 1.0/5.0],\n",
    "              [1.0/2.0, 1.0/3.0, 1.0/4.0, 1.0/5.0, 1.0/6.0],\n",
    "              [1.0/3.0, 1.0/4.0, 1.0/5.0, 1.0/6.0, 1.0/7.0],\n",
    "              [1.0/4.0, 1.0/5.0, 1.0/6.0, 1.0/7.0, 1.0/8.0],\n",
    "              [1.0/5.0, 1.0/6.0, 1.0/7.0, 1.0/8.0, 1.0/9.0]])\n",
    "\n",
    "# Compute and print vector norms\n",
    "vector_norms = compute_vector_norms(a)\n",
    "print(\"Vector Norms (2-norm, 1-norm, Infinity norm):\", vector_norms)\n",
    "\n",
    "# Compute and print matrix norms\n",
    "matrix_norms = compute_matrix_norms(A)\n",
    "print(\"Matrix Norms (2-norm, 1-norm, Infinity norm):\", matrix_norms)\n",
    "\n",
    "# Compute and print the inverse of the matrix\n",
    "A_inv = compute_matrix_inverse(A)\n",
    "print(\"Inverse of matrix A:\\n\", A_inv)\n",
    "\n",
    "# Compute and print the condition number of the matrix\n",
    "condition_number = compute_condition_number(A)\n",
    "print(\"Condition number of matrix A:\", condition_number)\n",
    "\n",
    "# Compute and print the determinant of the matrix\n",
    "determinant = compute_determinant(A)\n",
    "print(\"Determinant of matrix A:\", determinant)"
   ]
  },
  {
   "cell_type": "code",
   "execution_count": 6,
   "metadata": {},
   "outputs": [
    {
     "name": "stdout",
     "output_type": "stream",
     "text": [
      "Numeric Block Matrix X:\n",
      " [[ 1  2  5  6]\n",
      " [ 3  4  7  8]\n",
      " [ 9 10 13 14]\n",
      " [11 12 15 16]]\n",
      "Permutation Matrix P:\n",
      " [[0. 1. 0. 0.]\n",
      " [0. 0. 0. 1.]\n",
      " [0. 0. 1. 0.]\n",
      " [1. 0. 0. 0.]]\n",
      "Lower Triangular Matrix L:\n",
      " [[ 1.          0.          0.          0.        ]\n",
      " [ 0.09090909  1.          0.          0.        ]\n",
      " [ 0.81818182  0.2         1.          0.        ]\n",
      " [ 0.27272727  0.8        -0.7246022   1.        ]]\n",
      "Upper Triangular Matrix U:\n",
      " [[1.10000000e+01 1.20000000e+01 1.50000000e+01 1.60000000e+01]\n",
      " [0.00000000e+00 9.09090909e-01 3.63636364e+00 4.54545455e+00]\n",
      " [0.00000000e+00 0.00000000e+00 1.64918584e-15 1.77635684e-15]\n",
      " [0.00000000e+00 0.00000000e+00 0.00000000e+00 2.81895595e-16]]\n",
      "Inverse of Lower Triangular Matrix L:\n",
      " [[ 1.          0.          0.          0.        ]\n",
      " [-0.09090909  1.          0.          0.        ]\n",
      " [-0.8        -0.2         1.          0.        ]\n",
      " [-0.77968176 -0.94492044  0.7246022   1.        ]]\n",
      "Inverse of Upper Triangular Matrix U:\n",
      " [[ 9.09090909e-02 -1.20000000e+00  1.81907941e+15  2.72677496e+15]\n",
      " [ 0.00000000e+00  1.10000000e+00 -2.42543921e+15 -2.45322906e+15]\n",
      " [ 0.00000000e+00  0.00000000e+00  6.06359803e+14 -3.82095854e+15]\n",
      " [ 0.00000000e+00  0.00000000e+00  0.00000000e+00  3.54741265e+15]]\n",
      "Reconstructed Matrix from Inverses:\n",
      " [[-3.58128023e+15 -2.94040128e+15  3.79490655e+15  2.72677496e+15]\n",
      " [ 3.85308933e+15  2.80319413e+15 -4.20305440e+15 -2.45322906e+15]\n",
      " [ 2.49404385e+15  3.48922987e+15 -2.16231518e+15 -3.82095854e+15]\n",
      " [-2.76585294e+15 -3.35202272e+15  2.57046302e+15  3.54741265e+15]]\n"
     ]
    }
   ],
   "source": [
    "import numpy as np\n",
    "from scipy.linalg import lu\n",
    "\n",
    "# Example numeric values for A, B, C, D\n",
    "A_val = np.array([[1, 2], [3, 4]])\n",
    "B_val = np.array([[5, 6], [7, 8]])\n",
    "C_val = np.array([[9, 10], [11, 12]])\n",
    "D_val = np.array([[13, 14], [15, 16]])\n",
    "\n",
    "# Create numeric block matrix\n",
    "def numeric_block_matrix(A, B, C, D):\n",
    "    return np.block([[A, B], [C, D]])\n",
    "\n",
    "X_numeric = numeric_block_matrix(A_val, B_val, C_val, D_val)\n",
    "print(\"Numeric Block Matrix X:\\n\", X_numeric)\n",
    "\n",
    "# LU decomposition\n",
    "def lu_decomposition(matrix):\n",
    "    P, L, U = lu(matrix)\n",
    "    return P, L, U\n",
    "\n",
    "P, L, U = lu_decomposition(X_numeric)\n",
    "print(\"Permutation Matrix P:\\n\", P)\n",
    "print(\"Lower Triangular Matrix L:\\n\", L)\n",
    "print(\"Upper Triangular Matrix U:\\n\", U)\n",
    "\n",
    "# Compute inverses of L and U\n",
    "def matrix_inverses(L, U):\n",
    "    return np.linalg.inv(L), np.linalg.inv(U)\n",
    "\n",
    "L_inv, U_inv = matrix_inverses(L, U)\n",
    "print(\"Inverse of Lower Triangular Matrix L:\\n\", L_inv)\n",
    "print(\"Inverse of Upper Triangular Matrix U:\\n\", U_inv)\n",
    "\n",
    "# Reconstruct the matrix from inverses\n",
    "def reconstruct_matrix_from_inverses(U_inv, L_inv):\n",
    "    return U_inv @ L_inv\n",
    "\n",
    "reconstructed = reconstruct_matrix_from_inverses(U_inv, L_inv)\n",
    "print(\"Reconstructed Matrix from Inverses:\\n\", reconstructed)"
   ]
  },
  {
   "cell_type": "code",
   "execution_count": null,
   "metadata": {},
   "outputs": [],
   "source": []
  }
 ],
 "metadata": {
  "colab": {
   "provenance": []
  },
  "kernelspec": {
   "display_name": "Python 3 (ipykernel)",
   "language": "python",
   "name": "python3"
  },
  "language_info": {
   "codemirror_mode": {
    "name": "ipython",
    "version": 3
   },
   "file_extension": ".py",
   "mimetype": "text/x-python",
   "name": "python",
   "nbconvert_exporter": "python",
   "pygments_lexer": "ipython3",
   "version": "3.11.3"
  }
 },
 "nbformat": 4,
 "nbformat_minor": 1
}
