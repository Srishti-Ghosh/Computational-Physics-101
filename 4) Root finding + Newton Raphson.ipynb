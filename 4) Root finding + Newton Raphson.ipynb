{
 "cells": [
  {
   "cell_type": "code",
   "execution_count": 1,
   "metadata": {
    "colab": {
     "base_uri": "https://localhost:8080/"
    },
    "id": "HmBHZeMl-re1",
    "outputId": "16abc842-26aa-47db-ee4b-7a2dc3b27ef7"
   },
   "outputs": [
    {
     "name": "stdout",
     "output_type": "stream",
     "text": [
      "newton_raphson = 1.0228437176957053\n",
      "sqrt(2) = 1.4142135623730951\n"
     ]
    }
   ],
   "source": [
    "# without loop\n",
    "import numpy as np\n",
    "\n",
    "f = lambda x: x**5-2*x+1\n",
    "f_prime = lambda x: 5*x**4-2.0\n",
    "newton_raphson = 1.1 - (f(1.1))/(f_prime(1.1))\n",
    "print(\"newton_raphson =\", newton_raphson)\n",
    "print(\"sqrt(2) =\", np.sqrt(2))"
   ]
  },
  {
   "cell_type": "code",
   "execution_count": 36,
   "metadata": {
    "colab": {
     "base_uri": "https://localhost:8080/"
    },
    "id": "3Yp4UZQhMcfa",
    "outputId": "ab33d7c6-5705-4f61-96bc-0a39e1234568"
   },
   "outputs": [
    {
     "name": "stdout",
     "output_type": "stream",
     "text": [
      "Estimated Root: 0.7154549545111805\n"
     ]
    }
   ],
   "source": [
    "# with loop\n",
    "import numpy as np\n",
    "def target_function(x):\n",
    "    return np.sqrt(x)*np.tan(a*np.sqrt(x))-np.sqrt(10-x)\n",
    "def derivative_function(x):\n",
    "    return 1/(2*np.sqrt(x))*np.tan(a*np.sqrt(x))+a/(2*(np.cos(a*np.sqrt(x)))**2)-1/(2*np.sqrt(10-x))\n",
    "def newton_raphson_method(initial_guess, tolerance, max_iterations):\n",
    "    x_n = initial_guess\n",
    "    for iteration in range(max_iterations):\n",
    "        f_x = target_function(x_n)\n",
    "        f_prime_x = derivative_function(x_n)\n",
    "\n",
    "        if abs(f_x) < tolerance:\n",
    "            break\n",
    "\n",
    "        x_n = x_n - f_x / f_prime_x\n",
    "\n",
    "    return x_n\n",
    "initial_guess = 0.5\n",
    "tolerance = 1e-6\n",
    "max_iterations = 100\n",
    "\n",
    "sol = newton_raphson_method(initial_guess, tolerance, max_iterations)\n",
    "print(\"Estimated Root:\", sol)"
   ]
  },
  {
   "cell_type": "code",
   "execution_count": 37,
   "metadata": {
    "colab": {
     "base_uri": "https://localhost:8080/"
    },
    "id": "GWOkyJY9EkMs",
    "outputId": "7644f9de-060a-4873-d776-73b0fad2329c"
   },
   "outputs": [
    {
     "data": {
      "text/plain": [
       "0.7154549578748447"
      ]
     },
     "execution_count": 37,
     "metadata": {},
     "output_type": "execute_result"
    }
   ],
   "source": [
    "# with scipy\n",
    "import numpy as np\n",
    "import matplotlib.pyplot as plt\n",
    "from scipy import optimize\n",
    "def f(x):\n",
    "    return np.sqrt(x)*np.tan(a*np.sqrt(x))-np.sqrt(10-x)\n",
    "root = optimize.newton(f, 0.5)\n",
    "root"
   ]
  },
  {
   "cell_type": "code",
   "execution_count": 31,
   "metadata": {
    "colab": {
     "base_uri": "https://localhost:8080/"
    },
    "id": "MiPQ3nlqi3Ql",
    "outputId": "96610471-4aed-4b3c-baca-0c8a842820bc"
   },
   "outputs": [
    {
     "data": {
      "text/plain": [
       "array([  1., 100.])"
      ]
     },
     "execution_count": 31,
     "metadata": {},
     "output_type": "execute_result"
    }
   ],
   "source": [
    "from scipy.optimize import fsolve\n",
    "f = lambda x: x**3-100*x**2-x+100\n",
    "fsolve(f, [2, 80])"
   ]
  },
  {
   "cell_type": "code",
   "execution_count": null,
   "metadata": {
    "colab": {
     "base_uri": "https://localhost:8080/"
    },
    "id": "eBoLnrP0nVBw",
    "outputId": "a19f4cfe-8de6-4f3c-ae42-47ee95657601"
   },
   "outputs": [
    {
     "data": {
      "text/plain": [
       "array([0.6656489 , 0.66870218])"
      ]
     },
     "execution_count": 19,
     "metadata": {},
     "output_type": "execute_result"
    }
   ],
   "source": [
    "import numpy as np\n",
    "from scipy import optimize\n",
    "from scipy.optimize import fsolve\n",
    "def fun(x):\n",
    "    return [x[0]  + 0.5 * (x[0] - x[1])**3 - 1.0,\n",
    "            0.5 * (x[1] - x[0])**3 + x[1]]\n",
    "def func(x):\n",
    "    return [x[0] * np.cos(x[1]) - 4,\n",
    "            x[1] * x[0] - x[1] - 5]\n",
    "def funa(x):\n",
    "    return [x[0] + 0.5 * x[1] - 1.0,\n",
    "            0.5 * (x[1] - x[0]) ** 2]\n",
    "root = fsolve(func, [1, 1])\n",
    "root\n",
    "sol = optimize.broyden1(func, [0, 0])\n",
    "sol\n",
    "sol1 = optimize.broyden2(fun, [0, 0])\n",
    "sol1\n",
    "sol2 = optimize.newton_krylov(funa, [0, 0])\n",
    "sol2\n",
    "sol3 = optimize.anderson(funa, [0, 0])\n",
    "sol3"
   ]
  }
 ],
 "metadata": {
  "colab": {
   "provenance": []
  },
  "kernelspec": {
   "display_name": "Python 3 (ipykernel)",
   "language": "python",
   "name": "python3"
  },
  "language_info": {
   "codemirror_mode": {
    "name": "ipython",
    "version": 3
   },
   "file_extension": ".py",
   "mimetype": "text/x-python",
   "name": "python",
   "nbconvert_exporter": "python",
   "pygments_lexer": "ipython3",
   "version": "3.11.3"
  }
 },
 "nbformat": 4,
 "nbformat_minor": 1
}
